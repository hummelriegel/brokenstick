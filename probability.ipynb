{
 "cells": [
  {
   "cell_type": "markdown",
   "metadata": {},
   "source": [
    "# Probabilistic Solution"
   ]
  },
  {
   "cell_type": "markdown",
   "metadata": {},
   "source": [
    "* $A := \\text{Resulting stricks form a triangle} => \\text{no stick gets longer than 0.5} => \\text{Second break } y \\in \\begin{cases} [0.5, x+0.5], x < 0.5 \\\\ [0, x-0.5], x > 0.5\\end{cases} $\n",
    "* $B := \\text{First break }  x \\in[0,0.5]$ (=> $B^c := \\text{First break } x \\in[0.5, 1]$)\n",
    "\n",
    "\\begin{equation*}\n",
    "\\begin{aligned} \n",
    "P(A) &= P(A|B) + P(A|B^c)\\\\\n",
    "&= 2 * \\int_{x=0}^{0.5} \\int_{y=0.5}^{0.5+x} 1 dy dx\\\\\n",
    "&= 2 * [\\int_{0}^{0.5}y\\biggr\\rvert_{0.5}^{0.5+x}dx]\\\\\n",
    "&= 2 * [\\int_{0}^{0.5} (0.5 + x) - 0.5 dx]\\\\\n",
    "&= 2 * [\\int_{0}^{0.5} x dx]\\\\\n",
    "&= 2 * [\\frac{1}{2} x^2 \\biggr\\rvert_{0}^{0.5}]\\\\\n",
    "&= 2 * \\frac{1}{2} * \\frac{1}{4}\\\\\n",
    "&= \\frac{1}{4} = 0.25\n",
    "\\end{aligned}\n",
    "\\end{equation*}\n",
    "\n",
    "Since the probability of a single point in a continuous distribution is 0, the probability of the first break hitting 0.5 is 0 as well."
   ]
  },
  {
   "cell_type": "code",
   "execution_count": 2,
   "metadata": {},
   "outputs": [
    {
     "name": "stdout",
     "output_type": "stream",
     "text": [
      "0.25\n"
     ]
    }
   ],
   "source": [
    "import scipy.integrate as integrate\n",
    "I = 2 * integrate.dblquad(lambda x, y: 1, 0, 0.5, lambda x: 0.5, lambda x: 0.5+x)[0]\n",
    "print (I)"
   ]
  },
  {
   "cell_type": "code",
   "execution_count": null,
   "metadata": {},
   "outputs": [],
   "source": []
  }
 ],
 "metadata": {
  "kernelspec": {
   "display_name": "Python 3",
   "language": "python",
   "name": "python3"
  },
  "language_info": {
   "codemirror_mode": {
    "name": "ipython",
    "version": 3
   },
   "file_extension": ".py",
   "mimetype": "text/x-python",
   "name": "python",
   "nbconvert_exporter": "python",
   "pygments_lexer": "ipython3",
   "version": "3.7.6"
  }
 },
 "nbformat": 4,
 "nbformat_minor": 4
}
